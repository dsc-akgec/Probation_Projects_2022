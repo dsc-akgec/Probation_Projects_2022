{
 "cells": [
  {
   "cell_type": "markdown",
   "id": "8088e44d",
   "metadata": {},
   "source": [
    "## Import all the modules"
   ]
  },
  {
   "cell_type": "code",
   "execution_count": 1,
   "id": "782509f1",
   "metadata": {},
   "outputs": [],
   "source": [
    "from fer import FER\n",
    "from selenium import webdriver\n",
    "from selenium.webdriver.common.keys import Keys\n",
    "import matplotlib.pyplot as plt \n",
    "%matplotlib inline\n",
    "import os\n",
    "import cv2"
   ]
  },
  {
   "cell_type": "markdown",
   "id": "a10b987d",
   "metadata": {},
   "source": [
    "## Open chrome for opening the playlist"
   ]
  },
  {
   "cell_type": "code",
   "execution_count": 2,
   "id": "a37b144a",
   "metadata": {},
   "outputs": [],
   "source": []
  },
  {
   "cell_type": "markdown",
   "id": "43f21a22",
   "metadata": {},
   "source": [
    "## Reading a pre-saved image"
   ]
  },
  {
   "cell_type": "code",
   "execution_count": 3,
   "id": "79015316",
   "metadata": {},
   "outputs": [
    {
     "ename": "NameError",
     "evalue": "name 'cap' is not defined",
     "output_type": "error",
     "traceback": [
      "\u001b[1;31m---------------------------------------------------------------------------\u001b[0m",
      "\u001b[1;31mNameError\u001b[0m                                 Traceback (most recent call last)",
      "Cell \u001b[1;32mIn [3], line 2\u001b[0m\n\u001b[0;32m      1\u001b[0m \u001b[38;5;28;01mwhile\u001b[39;00m \u001b[38;5;28;01mTrue\u001b[39;00m:\n\u001b[1;32m----> 2\u001b[0m     ret, test_img \u001b[38;5;241m=\u001b[39m cap\u001b[38;5;241m.\u001b[39mread()  \u001b[38;5;66;03m# captures frame and returns boolean value and captured image\u001b[39;00m\n\u001b[0;32m      3\u001b[0m     \u001b[38;5;28;01mif\u001b[39;00m \u001b[38;5;129;01mnot\u001b[39;00m ret:\n\u001b[0;32m      4\u001b[0m         \u001b[38;5;28;01mcontinue\u001b[39;00m\n",
      "\u001b[1;31mNameError\u001b[0m: name 'cap' is not defined"
     ]
    }
   ],
   "source": [
    "while True:\n",
    "    ret, test_img = cap.read()  # captures frame and returns boolean value and captured image\n",
    "    if not ret:\n",
    "        continue\n",
    "    gray_img = cv2.cvtColor(test_img, cv2.COLOR_BGR2RGB)\n",
    "\n",
    "    faces_detected = face_haar_cascade.detectMultiScale(gray_img, 1.32, 5)\n",
    "emo_detector = FER(mtcnn=True)"
   ]
  },
  {
   "cell_type": "markdown",
   "id": "c8bd3dc0",
   "metadata": {},
   "source": [
    "## Reading all the emotions using FER module"
   ]
  },
  {
   "cell_type": "code",
   "execution_count": null,
   "id": "caaffc5a",
   "metadata": {},
   "outputs": [],
   "source": [
    "captured_emotions = emo_detector.detect_emotions(faces_detected)"
   ]
  },
  {
   "cell_type": "markdown",
   "id": "224f6c6a",
   "metadata": {},
   "source": [
    "## Print all the emotions from the image"
   ]
  },
  {
   "cell_type": "code",
   "execution_count": null,
   "id": "b2734ae7",
   "metadata": {},
   "outputs": [],
   "source": [
    "print(captured_emotions)\n",
    "plt.imshow(test_image_one)"
   ]
  },
  {
   "cell_type": "markdown",
   "id": "6b14f4dc",
   "metadata": {},
   "source": [
    "## Accessing the dominant emotion by it's score"
   ]
  },
  {
   "cell_type": "code",
   "execution_count": null,
   "id": "1899413e",
   "metadata": {},
   "outputs": [],
   "source": [
    "dominant_emotion, emotion_score = emo_detector.top_emotion(test_image_one)\n",
    "print(dominant_emotion, emotion_score)"
   ]
  },
  {
   "cell_type": "markdown",
   "id": "233ff3fa",
   "metadata": {},
   "source": [
    "## By dominant emotion we are directing to a playlist"
   ]
  },
  {
   "cell_type": "code",
   "execution_count": null,
   "id": "9e7547a2",
   "metadata": {},
   "outputs": [],
   "source": [
    "if dominant_emotion == \"happy\":\n",
    "    driver.get(\"https://open.spotify.com/playlist/4nd7oGDNgfM0rv28CQw9WQ\")\n",
    "\n",
    "elif dominant_emotion == \"sad\":\n",
    "    driver.get(\"https://open.spotify.com/playlist/1jJoJu3y2v0pl2fQb4FpcR\")\n",
    "    \n",
    "elif dominant_emotion == \"angry\":\n",
    "    driver.get(\"https://open.spotify.com/playlist/2SAlj6IpdtsyI7qqU0ZKb2\")\n",
    "    \n",
    "elif dominant_emotion == \"fear\":\n",
    "    driver.get(\"https://open.spotify.com/album/1KwWAVnZPhsc9QlQGrM702\")\n",
    "    \n",
    "elif dominant_emotion == \"disgust\":\n",
    "    driver.get(\"https://open.spotify.com/playlist/7diEjS9gADBgVpDww9J1r3\")\n",
    "    \n",
    "elif dominant_emotion == \"neutral\":\n",
    "    driver.get(\"https://open.spotify.com/playlist/0ffnLxCftwLzmXDO7DJEXc\")\n",
    "    \n",
    "elif dominant_emotion == \"surprise\":\n",
    "    driver.get(\"https://open.spotify.com/playlist/2dBjcjjYckHQlrn8iHm7c1\")\n",
    "\n",
    "else:\n",
    "    print(\"no face detected\")"
   ]
  }
 ],
 "metadata": {
  "kernelspec": {
   "display_name": "Python 3 (ipykernel)",
   "language": "python",
   "name": "python3"
  },
  "language_info": {
   "codemirror_mode": {
    "name": "ipython",
    "version": 3
   },
   "file_extension": ".py",
   "mimetype": "text/x-python",
   "name": "python",
   "nbconvert_exporter": "python",
   "pygments_lexer": "ipython3",
   "version": "3.10.7"
  }
 },
 "nbformat": 4,
 "nbformat_minor": 5
}
